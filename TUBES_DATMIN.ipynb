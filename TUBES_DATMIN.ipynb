{
 "cells": [
  {
   "cell_type": "code",
   "execution_count": 353,
   "id": "d5b189db",
   "metadata": {},
   "outputs": [],
   "source": [
    "import pandas as pd"
   ]
  },
  {
   "cell_type": "markdown",
   "id": "d0a86fec",
   "metadata": {},
   "source": [
    "***DATA JUMLAH PENDUDUK***"
   ]
  },
  {
   "cell_type": "code",
   "execution_count": 354,
   "id": "10d4a7d1",
   "metadata": {},
   "outputs": [
    {
     "data": {
      "text/html": [
       "<div>\n",
       "<style scoped>\n",
       "    .dataframe tbody tr th:only-of-type {\n",
       "        vertical-align: middle;\n",
       "    }\n",
       "\n",
       "    .dataframe tbody tr th {\n",
       "        vertical-align: top;\n",
       "    }\n",
       "\n",
       "    .dataframe thead th {\n",
       "        text-align: right;\n",
       "    }\n",
       "</style>\n",
       "<table border=\"1\" class=\"dataframe\">\n",
       "  <thead>\n",
       "    <tr style=\"text-align: right;\">\n",
       "      <th></th>\n",
       "      <th>Wilayah Jawa Barat</th>\n",
       "      <th>2018</th>\n",
       "      <th>2019</th>\n",
       "      <th>2020</th>\n",
       "    </tr>\n",
       "  </thead>\n",
       "  <tbody>\n",
       "    <tr>\n",
       "      <th>0</th>\n",
       "      <td>Provinsi Jawa Barat</td>\n",
       "      <td>48683861</td>\n",
       "      <td>49316712</td>\n",
       "      <td>49935858</td>\n",
       "    </tr>\n",
       "    <tr>\n",
       "      <th>1</th>\n",
       "      <td>Bogor</td>\n",
       "      <td>5840907</td>\n",
       "      <td>5965410</td>\n",
       "      <td>6088233</td>\n",
       "    </tr>\n",
       "    <tr>\n",
       "      <th>2</th>\n",
       "      <td>Sukabumi</td>\n",
       "      <td>2460693</td>\n",
       "      <td>2466272</td>\n",
       "      <td>2470219</td>\n",
       "    </tr>\n",
       "    <tr>\n",
       "      <th>3</th>\n",
       "      <td>Cianjur</td>\n",
       "      <td>2260620</td>\n",
       "      <td>2263072</td>\n",
       "      <td>2264328</td>\n",
       "    </tr>\n",
       "    <tr>\n",
       "      <th>4</th>\n",
       "      <td>Bandung</td>\n",
       "      <td>3717291</td>\n",
       "      <td>3775279</td>\n",
       "      <td>3831505</td>\n",
       "    </tr>\n",
       "  </tbody>\n",
       "</table>\n",
       "</div>"
      ],
      "text/plain": [
       "    Wilayah Jawa Barat      2018      2019      2020\n",
       "0  Provinsi Jawa Barat  48683861  49316712  49935858\n",
       "1                Bogor   5840907   5965410   6088233\n",
       "2             Sukabumi   2460693   2466272   2470219\n",
       "3              Cianjur   2260620   2263072   2264328\n",
       "4              Bandung   3717291   3775279   3831505"
      ]
     },
     "execution_count": 354,
     "metadata": {},
     "output_type": "execute_result"
    }
   ],
   "source": [
    "df = pd.read_csv('Jumlah_penduduk_menurut_kabupaten_kota_2018_2020.csv')\n",
    "df.head()"
   ]
  },
  {
   "cell_type": "markdown",
   "id": "41f3ffa0",
   "metadata": {},
   "source": [
    "**DATA LUAS WILAYAH**"
   ]
  },
  {
   "cell_type": "code",
   "execution_count": 355,
   "id": "fffe230c",
   "metadata": {},
   "outputs": [
    {
     "data": {
      "text/html": [
       "<div>\n",
       "<style scoped>\n",
       "    .dataframe tbody tr th:only-of-type {\n",
       "        vertical-align: middle;\n",
       "    }\n",
       "\n",
       "    .dataframe tbody tr th {\n",
       "        vertical-align: top;\n",
       "    }\n",
       "\n",
       "    .dataframe thead th {\n",
       "        text-align: right;\n",
       "    }\n",
       "</style>\n",
       "<table border=\"1\" class=\"dataframe\">\n",
       "  <thead>\n",
       "    <tr style=\"text-align: right;\">\n",
       "      <th></th>\n",
       "      <th>Kabupaten/Kota</th>\n",
       "      <th>Ibu Kota Wilayah</th>\n",
       "      <th>Luas Wilayah (Km2)</th>\n",
       "      <th>Persentase Terhadap Luas Wilayah</th>\n",
       "      <th>Jumlah Pulau</th>\n",
       "    </tr>\n",
       "  </thead>\n",
       "  <tbody>\n",
       "    <tr>\n",
       "      <th>0</th>\n",
       "      <td>Bogor</td>\n",
       "      <td>Cibinong</td>\n",
       "      <td>2710.62</td>\n",
       "      <td>7.66</td>\n",
       "      <td>NaN</td>\n",
       "    </tr>\n",
       "    <tr>\n",
       "      <th>1</th>\n",
       "      <td>Sukabumi</td>\n",
       "      <td>Pelabuhan Ratu\\t</td>\n",
       "      <td>4145.70</td>\n",
       "      <td>11.72</td>\n",
       "      <td>NaN</td>\n",
       "    </tr>\n",
       "    <tr>\n",
       "      <th>2</th>\n",
       "      <td>Cianjur</td>\n",
       "      <td>Cianjur</td>\n",
       "      <td>3840.16</td>\n",
       "      <td>10.85</td>\n",
       "      <td>NaN</td>\n",
       "    </tr>\n",
       "    <tr>\n",
       "      <th>3</th>\n",
       "      <td>Bandung</td>\n",
       "      <td>Soreang</td>\n",
       "      <td>1767.96</td>\n",
       "      <td>5.00</td>\n",
       "      <td>NaN</td>\n",
       "    </tr>\n",
       "    <tr>\n",
       "      <th>4</th>\n",
       "      <td>Garut</td>\n",
       "      <td>Torogong Kidul\\t</td>\n",
       "      <td>3074.07</td>\n",
       "      <td>8.69</td>\n",
       "      <td>NaN</td>\n",
       "    </tr>\n",
       "  </tbody>\n",
       "</table>\n",
       "</div>"
      ],
      "text/plain": [
       "  Kabupaten/Kota  Ibu Kota Wilayah  Luas Wilayah (Km2)  \\\n",
       "0          Bogor          Cibinong             2710.62   \n",
       "1       Sukabumi  Pelabuhan Ratu\\t             4145.70   \n",
       "2        Cianjur           Cianjur             3840.16   \n",
       "3        Bandung           Soreang             1767.96   \n",
       "4          Garut  Torogong Kidul\\t             3074.07   \n",
       "\n",
       "   Persentase Terhadap Luas Wilayah  Jumlah Pulau  \n",
       "0                              7.66           NaN  \n",
       "1                             11.72           NaN  \n",
       "2                             10.85           NaN  \n",
       "3                              5.00           NaN  \n",
       "4                              8.69           NaN  "
      ]
     },
     "execution_count": 355,
     "metadata": {},
     "output_type": "execute_result"
    }
   ],
   "source": [
    "dd_2 = pd.read_csv('Luas_daerah_menurut_kabupaten_kota_jawabarat_2020.csv')\n",
    "dd_2.head()"
   ]
  },
  {
   "cell_type": "markdown",
   "id": "6dd00d47",
   "metadata": {},
   "source": [
    "***GABUNGIN DATA PENDUDUK***"
   ]
  },
  {
   "cell_type": "markdown",
   "id": "0b944a0d",
   "metadata": {},
   "source": [
    "***Cleaning Data Luas Daerah***"
   ]
  },
  {
   "cell_type": "code",
   "execution_count": 356,
   "id": "5545198c",
   "metadata": {},
   "outputs": [
    {
     "name": "stdout",
     "output_type": "stream",
     "text": [
      "<class 'pandas.core.frame.DataFrame'>\n",
      "RangeIndex: 28 entries, 0 to 27\n",
      "Data columns (total 4 columns):\n",
      " #   Column                            Non-Null Count  Dtype  \n",
      "---  ------                            --------------  -----  \n",
      " 0   Kabupaten/Kota                    28 non-null     object \n",
      " 1   Ibu Kota Wilayah                  28 non-null     object \n",
      " 2   Luas Wilayah (Km2)                28 non-null     float64\n",
      " 3   Persentase Terhadap Luas Wilayah  28 non-null     float64\n",
      "dtypes: float64(2), object(2)\n",
      "memory usage: 1.0+ KB\n"
     ]
    }
   ],
   "source": [
    "dd_2.drop([\"Jumlah Pulau\"], axis=1, inplace=True)\n",
    "dd_2.info()"
   ]
  },
  {
   "cell_type": "code",
   "execution_count": 357,
   "id": "67a1a104",
   "metadata": {},
   "outputs": [
    {
     "data": {
      "text/html": [
       "<div>\n",
       "<style scoped>\n",
       "    .dataframe tbody tr th:only-of-type {\n",
       "        vertical-align: middle;\n",
       "    }\n",
       "\n",
       "    .dataframe tbody tr th {\n",
       "        vertical-align: top;\n",
       "    }\n",
       "\n",
       "    .dataframe thead th {\n",
       "        text-align: right;\n",
       "    }\n",
       "</style>\n",
       "<table border=\"1\" class=\"dataframe\">\n",
       "  <thead>\n",
       "    <tr style=\"text-align: right;\">\n",
       "      <th></th>\n",
       "      <th>Wilayah Jawa Barat</th>\n",
       "      <th>2018</th>\n",
       "      <th>2019</th>\n",
       "      <th>2020</th>\n",
       "      <th>Ibu Kota Wilayah</th>\n",
       "      <th>Luas Wilayah (Km2)</th>\n",
       "      <th>Persentase Terhadap Luas Wilayah</th>\n",
       "    </tr>\n",
       "  </thead>\n",
       "  <tbody>\n",
       "    <tr>\n",
       "      <th>0</th>\n",
       "      <td>Bogor</td>\n",
       "      <td>5840907</td>\n",
       "      <td>5965410</td>\n",
       "      <td>6088233</td>\n",
       "      <td>Cibinong</td>\n",
       "      <td>2710.62</td>\n",
       "      <td>7.66</td>\n",
       "    </tr>\n",
       "    <tr>\n",
       "      <th>1</th>\n",
       "      <td>Sukabumi</td>\n",
       "      <td>2460693</td>\n",
       "      <td>2466272</td>\n",
       "      <td>2470219</td>\n",
       "      <td>Pelabuhan Ratu\\t</td>\n",
       "      <td>4145.70</td>\n",
       "      <td>11.72</td>\n",
       "    </tr>\n",
       "    <tr>\n",
       "      <th>2</th>\n",
       "      <td>Cianjur</td>\n",
       "      <td>2260620</td>\n",
       "      <td>2263072</td>\n",
       "      <td>2264328</td>\n",
       "      <td>Cianjur</td>\n",
       "      <td>3840.16</td>\n",
       "      <td>10.85</td>\n",
       "    </tr>\n",
       "    <tr>\n",
       "      <th>3</th>\n",
       "      <td>Bandung</td>\n",
       "      <td>3717291</td>\n",
       "      <td>3775279</td>\n",
       "      <td>3831505</td>\n",
       "      <td>Soreang</td>\n",
       "      <td>1767.96</td>\n",
       "      <td>5.00</td>\n",
       "    </tr>\n",
       "    <tr>\n",
       "      <th>4</th>\n",
       "      <td>Garut</td>\n",
       "      <td>2606399</td>\n",
       "      <td>2622425</td>\n",
       "      <td>2636637</td>\n",
       "      <td>Torogong Kidul\\t</td>\n",
       "      <td>3074.07</td>\n",
       "      <td>8.69</td>\n",
       "    </tr>\n",
       "  </tbody>\n",
       "</table>\n",
       "</div>"
      ],
      "text/plain": [
       "  Wilayah Jawa Barat     2018     2019     2020  Ibu Kota Wilayah  \\\n",
       "0              Bogor  5840907  5965410  6088233          Cibinong   \n",
       "1           Sukabumi  2460693  2466272  2470219  Pelabuhan Ratu\\t   \n",
       "2            Cianjur  2260620  2263072  2264328           Cianjur   \n",
       "3            Bandung  3717291  3775279  3831505           Soreang   \n",
       "4              Garut  2606399  2622425  2636637  Torogong Kidul\\t   \n",
       "\n",
       "   Luas Wilayah (Km2)  Persentase Terhadap Luas Wilayah  \n",
       "0             2710.62                              7.66  \n",
       "1             4145.70                             11.72  \n",
       "2             3840.16                             10.85  \n",
       "3             1767.96                              5.00  \n",
       "4             3074.07                              8.69  "
      ]
     },
     "execution_count": 357,
     "metadata": {},
     "output_type": "execute_result"
    }
   ],
   "source": [
    "df_final = df.merge(dd_2, left_on=\"Wilayah Jawa Barat\", right_on=\"Kabupaten/Kota\")\n",
    "df_final.drop(columns=[\"Kabupaten/Kota\"], inplace=True)\n",
    "df_final.head()"
   ]
  },
  {
   "cell_type": "code",
   "execution_count": 358,
   "id": "c6dea54e",
   "metadata": {},
   "outputs": [],
   "source": [
    "kolom_baru = [\"Wilayah Jawa Barat\", \"Luas Wilayah (Km2)\"] + [str(t) for t in range(2018, 2021)] + [\"Ibu Kota Wilayah\", \"Persentase Terhadap Luas Wilayah\"]\n",
    "df_final = df_final[kolom_baru]"
   ]
  },
  {
   "cell_type": "code",
   "execution_count": 359,
   "id": "4cddfd1a",
   "metadata": {},
   "outputs": [
    {
     "data": {
      "text/html": [
       "<div>\n",
       "<style scoped>\n",
       "    .dataframe tbody tr th:only-of-type {\n",
       "        vertical-align: middle;\n",
       "    }\n",
       "\n",
       "    .dataframe tbody tr th {\n",
       "        vertical-align: top;\n",
       "    }\n",
       "\n",
       "    .dataframe thead th {\n",
       "        text-align: right;\n",
       "    }\n",
       "</style>\n",
       "<table border=\"1\" class=\"dataframe\">\n",
       "  <thead>\n",
       "    <tr style=\"text-align: right;\">\n",
       "      <th></th>\n",
       "      <th>Wilayah Jawa Barat</th>\n",
       "      <th>Luas Wilayah (Km2)</th>\n",
       "      <th>2018</th>\n",
       "      <th>2019</th>\n",
       "      <th>2020</th>\n",
       "      <th>Ibu Kota Wilayah</th>\n",
       "      <th>Persentase Terhadap Luas Wilayah</th>\n",
       "    </tr>\n",
       "  </thead>\n",
       "  <tbody>\n",
       "    <tr>\n",
       "      <th>0</th>\n",
       "      <td>Bogor</td>\n",
       "      <td>2710.62</td>\n",
       "      <td>5840907</td>\n",
       "      <td>5965410</td>\n",
       "      <td>6088233</td>\n",
       "      <td>Cibinong</td>\n",
       "      <td>7.66</td>\n",
       "    </tr>\n",
       "    <tr>\n",
       "      <th>1</th>\n",
       "      <td>Sukabumi</td>\n",
       "      <td>4145.70</td>\n",
       "      <td>2460693</td>\n",
       "      <td>2466272</td>\n",
       "      <td>2470219</td>\n",
       "      <td>Pelabuhan Ratu\\t</td>\n",
       "      <td>11.72</td>\n",
       "    </tr>\n",
       "    <tr>\n",
       "      <th>2</th>\n",
       "      <td>Cianjur</td>\n",
       "      <td>3840.16</td>\n",
       "      <td>2260620</td>\n",
       "      <td>2263072</td>\n",
       "      <td>2264328</td>\n",
       "      <td>Cianjur</td>\n",
       "      <td>10.85</td>\n",
       "    </tr>\n",
       "    <tr>\n",
       "      <th>3</th>\n",
       "      <td>Bandung</td>\n",
       "      <td>1767.96</td>\n",
       "      <td>3717291</td>\n",
       "      <td>3775279</td>\n",
       "      <td>3831505</td>\n",
       "      <td>Soreang</td>\n",
       "      <td>5.00</td>\n",
       "    </tr>\n",
       "    <tr>\n",
       "      <th>4</th>\n",
       "      <td>Garut</td>\n",
       "      <td>3074.07</td>\n",
       "      <td>2606399</td>\n",
       "      <td>2622425</td>\n",
       "      <td>2636637</td>\n",
       "      <td>Torogong Kidul\\t</td>\n",
       "      <td>8.69</td>\n",
       "    </tr>\n",
       "  </tbody>\n",
       "</table>\n",
       "</div>"
      ],
      "text/plain": [
       "  Wilayah Jawa Barat  Luas Wilayah (Km2)     2018     2019     2020  \\\n",
       "0              Bogor             2710.62  5840907  5965410  6088233   \n",
       "1           Sukabumi             4145.70  2460693  2466272  2470219   \n",
       "2            Cianjur             3840.16  2260620  2263072  2264328   \n",
       "3            Bandung             1767.96  3717291  3775279  3831505   \n",
       "4              Garut             3074.07  2606399  2622425  2636637   \n",
       "\n",
       "   Ibu Kota Wilayah  Persentase Terhadap Luas Wilayah  \n",
       "0          Cibinong                              7.66  \n",
       "1  Pelabuhan Ratu\\t                             11.72  \n",
       "2           Cianjur                             10.85  \n",
       "3           Soreang                              5.00  \n",
       "4  Torogong Kidul\\t                              8.69  "
      ]
     },
     "execution_count": 359,
     "metadata": {},
     "output_type": "execute_result"
    }
   ],
   "source": [
    "df_final.head()"
   ]
  },
  {
   "cell_type": "markdown",
   "id": "ac311c64",
   "metadata": {},
   "source": [
    "***Hitung Kepadatan Penduduk per Tahun***"
   ]
  },
  {
   "cell_type": "code",
   "execution_count": 360,
   "id": "3457ef9d",
   "metadata": {},
   "outputs": [],
   "source": [
    "kepadatan_tahunan = {}\n",
    "\n",
    "for tahun in range(2018, 2021):\n",
    "    kolom_kepadatan = f'Kepadatan_{tahun}'\n",
    "    df_final[kolom_kepadatan] = df_final[str(tahun)] / df_final[\"Luas Wilayah (Km2)\"]\n",
    "    kepadatan_tahunan[tahun] = df_final[[\"Wilayah Jawa Barat\", kolom_kepadatan]]\n"
   ]
  },
  {
   "cell_type": "code",
   "execution_count": 361,
   "id": "f9f8bcdc",
   "metadata": {},
   "outputs": [
    {
     "data": {
      "text/html": [
       "<div>\n",
       "<style scoped>\n",
       "    .dataframe tbody tr th:only-of-type {\n",
       "        vertical-align: middle;\n",
       "    }\n",
       "\n",
       "    .dataframe tbody tr th {\n",
       "        vertical-align: top;\n",
       "    }\n",
       "\n",
       "    .dataframe thead th {\n",
       "        text-align: right;\n",
       "    }\n",
       "</style>\n",
       "<table border=\"1\" class=\"dataframe\">\n",
       "  <thead>\n",
       "    <tr style=\"text-align: right;\">\n",
       "      <th></th>\n",
       "      <th>Wilayah Jawa Barat</th>\n",
       "      <th>Luas Wilayah (Km2)</th>\n",
       "      <th>2018</th>\n",
       "      <th>2019</th>\n",
       "      <th>2020</th>\n",
       "      <th>Ibu Kota Wilayah</th>\n",
       "      <th>Persentase Terhadap Luas Wilayah</th>\n",
       "      <th>Kepadatan_2018</th>\n",
       "      <th>Kepadatan_2019</th>\n",
       "      <th>Kepadatan_2020</th>\n",
       "    </tr>\n",
       "  </thead>\n",
       "  <tbody>\n",
       "    <tr>\n",
       "      <th>0</th>\n",
       "      <td>Bogor</td>\n",
       "      <td>2710.62</td>\n",
       "      <td>5840907</td>\n",
       "      <td>5965410</td>\n",
       "      <td>6088233</td>\n",
       "      <td>Cibinong</td>\n",
       "      <td>7.66</td>\n",
       "      <td>2154.823251</td>\n",
       "      <td>2200.754809</td>\n",
       "      <td>2246.066583</td>\n",
       "    </tr>\n",
       "    <tr>\n",
       "      <th>1</th>\n",
       "      <td>Sukabumi</td>\n",
       "      <td>4145.70</td>\n",
       "      <td>2460693</td>\n",
       "      <td>2466272</td>\n",
       "      <td>2470219</td>\n",
       "      <td>Pelabuhan Ratu\\t</td>\n",
       "      <td>11.72</td>\n",
       "      <td>593.553079</td>\n",
       "      <td>594.898811</td>\n",
       "      <td>595.850882</td>\n",
       "    </tr>\n",
       "    <tr>\n",
       "      <th>2</th>\n",
       "      <td>Cianjur</td>\n",
       "      <td>3840.16</td>\n",
       "      <td>2260620</td>\n",
       "      <td>2263072</td>\n",
       "      <td>2264328</td>\n",
       "      <td>Cianjur</td>\n",
       "      <td>10.85</td>\n",
       "      <td>588.678597</td>\n",
       "      <td>589.317112</td>\n",
       "      <td>589.644181</td>\n",
       "    </tr>\n",
       "    <tr>\n",
       "      <th>3</th>\n",
       "      <td>Bandung</td>\n",
       "      <td>1767.96</td>\n",
       "      <td>3717291</td>\n",
       "      <td>3775279</td>\n",
       "      <td>3831505</td>\n",
       "      <td>Soreang</td>\n",
       "      <td>5.00</td>\n",
       "      <td>2102.587728</td>\n",
       "      <td>2135.387113</td>\n",
       "      <td>2167.189869</td>\n",
       "    </tr>\n",
       "    <tr>\n",
       "      <th>4</th>\n",
       "      <td>Garut</td>\n",
       "      <td>3074.07</td>\n",
       "      <td>2606399</td>\n",
       "      <td>2622425</td>\n",
       "      <td>2636637</td>\n",
       "      <td>Torogong Kidul\\t</td>\n",
       "      <td>8.69</td>\n",
       "      <td>847.865859</td>\n",
       "      <td>853.079143</td>\n",
       "      <td>857.702329</td>\n",
       "    </tr>\n",
       "  </tbody>\n",
       "</table>\n",
       "</div>"
      ],
      "text/plain": [
       "  Wilayah Jawa Barat  Luas Wilayah (Km2)     2018     2019     2020  \\\n",
       "0              Bogor             2710.62  5840907  5965410  6088233   \n",
       "1           Sukabumi             4145.70  2460693  2466272  2470219   \n",
       "2            Cianjur             3840.16  2260620  2263072  2264328   \n",
       "3            Bandung             1767.96  3717291  3775279  3831505   \n",
       "4              Garut             3074.07  2606399  2622425  2636637   \n",
       "\n",
       "   Ibu Kota Wilayah  Persentase Terhadap Luas Wilayah  Kepadatan_2018  \\\n",
       "0          Cibinong                              7.66     2154.823251   \n",
       "1  Pelabuhan Ratu\\t                             11.72      593.553079   \n",
       "2           Cianjur                             10.85      588.678597   \n",
       "3           Soreang                              5.00     2102.587728   \n",
       "4  Torogong Kidul\\t                              8.69      847.865859   \n",
       "\n",
       "   Kepadatan_2019  Kepadatan_2020  \n",
       "0     2200.754809     2246.066583  \n",
       "1      594.898811      595.850882  \n",
       "2      589.317112      589.644181  \n",
       "3     2135.387113     2167.189869  \n",
       "4      853.079143      857.702329  "
      ]
     },
     "execution_count": 361,
     "metadata": {},
     "output_type": "execute_result"
    }
   ],
   "source": [
    "df_final.head()"
   ]
  },
  {
   "cell_type": "markdown",
   "id": "3fb2bb4b",
   "metadata": {},
   "source": [
    "#### **Split Dataset**"
   ]
  },
  {
   "cell_type": "code",
   "execution_count": 362,
   "id": "2e238460",
   "metadata": {},
   "outputs": [],
   "source": [
    "import pandas as pd\n",
    "import numpy as np\n",
    "from sklearn.model_selection import train_test_split, cross_val_predict, KFold\n",
    "from sklearn.metrics import mean_squared_error, mean_absolute_error\n",
    "from sklearn.neighbors import KNeighborsRegressor\n",
    "import matplotlib.pyplot as plt"
   ]
  },
  {
   "cell_type": "code",
   "execution_count": 363,
   "id": "1f2389df",
   "metadata": {},
   "outputs": [],
   "source": [
    "X = df_final.drop(columns=[\"Wilayah Jawa Barat\", \"Kepadatan_2020\", \"Ibu Kota Wilayah\", \"Persentase Terhadap Luas Wilayah\"])\n",
    "y = df_final['Kepadatan_2020']"
   ]
  },
  {
   "cell_type": "code",
   "execution_count": 364,
   "id": "a42f1e13",
   "metadata": {},
   "outputs": [],
   "source": [
    "X_train, X_test, y_train, y_test = train_test_split(X, y, test_size=0.2, random_state=42)"
   ]
  },
  {
   "cell_type": "code",
   "execution_count": 365,
   "id": "af5aa311",
   "metadata": {},
   "outputs": [],
   "source": [
    "knn_model = KNeighborsRegressor(n_neighbors=5)\n",
    "cv = KFold(n_splits=10, shuffle=True, random_state=42)\n",
    "y_pred_cv = cross_val_predict(knn_model, X, y, cv=cv)"
   ]
  },
  {
   "cell_type": "code",
   "execution_count": 366,
   "id": "9b713438",
   "metadata": {},
   "outputs": [
    {
     "name": "stdout",
     "output_type": "stream",
     "text": [
      "MAE: 4406.17\n",
      "MSE: 30726319.60\n",
      "RMSE: 5543.13\n"
     ]
    },
    {
     "data": {
      "image/png": "[encoded data removed]",
      "text/plain": [
       "<Figure size 1000x500 with 1 Axes>"
      ]
     },
     "metadata": {},
     "output_type": "display_data"
    },
    {
     "data": {
      "image/png": "[encoded data removed]",
      "text/plain": [
       "<Figure size 1200x500 with 1 Axes>"
      ]
     },
     "metadata": {},
     "output_type": "display_data"
    },
    {
     "data": {
      "image/png": "[encoded data removed]",
      "text/plain": [
       "<Figure size 640x480 with 1 Axes>"
      ]
     },
     "metadata": {},
     "output_type": "display_data"
    },
    {
     "data": {
      "image/png": "[encoded data removed]",
      "text/plain": [
       "<Figure size 800x500 with 1 Axes>"
      ]
     },
     "metadata": {},
     "output_type": "display_data"
    }
   ],
   "source": [
    "mse = mean_squared_error(y, y_pred_cv)\n",
    "mae = mean_absolute_error(y, y_pred_cv)\n",
    "rmse = np.sqrt(mse)\n",
    "\n",
    "print(f\"MAE: {mae:.2f}\")\n",
    "print(f\"MSE: {mse:.2f}\")\n",
    "print(f\"RMSE: {rmse:.2f}\")\n",
    "\n",
    "plt.figure(figsize=(8, 5))\n",
    "plt.scatter(y, y_pred_cv, alpha=0.7, edgecolor='k')\n",
    "plt.plot([y.min(), y.max()], [y.min(), y.max()], 'r--')  # garis diagonal\n",
    "plt.xlabel(\"Aktual\")\n",
    "plt.ylabel(\"Prediksi\")\n",
    "plt.title(\"Grafik Scatter Prediksi vs Aktual (kNN, CV=10)\")\n",
    "plt.grid(True)\n",
    "plt.tight_layout()\n",
    "plt.show()"
   ]
  },
  {
   "cell_type": "code",
   "execution_count": 367,
   "id": "5469de2b",
   "metadata": {},
   "outputs": [],
   "source": [
    "import pandas as pd\n",
    "import numpy as np\n",
    "from sklearn.cluster import KMeans, DBSCAN\n",
    "from sklearn.metrics import silhouette_score, davies_bouldin_score\n",
    "from sklearn.preprocessing import StandardScaler\n",
    "import matplotlib.pyplot as plt"
   ]
  },
  {
   "cell_type": "code",
   "execution_count": 368,
   "id": "6fb05096",
   "metadata": {},
   "outputs": [],
   "source": [
    "X = df_final.drop(columns=[\"Wilayah Jawa Barat\", \"Ibu Kota Wilayah\", \"Persentase Terhadap Luas Wilayah\", \"Kepadatan_2020\"])"
   ]
  },
  {
   "cell_type": "code",
   "execution_count": 369,
   "id": "09de4586",
   "metadata": {},
   "outputs": [],
   "source": [
    "scaler = StandardScaler()\n",
    "X_scaled = scaler.fit_transform(X)"
   ]
  },
  {
   "cell_type": "code",
   "execution_count": 370,
   "id": "51c3276e",
   "metadata": {},
   "outputs": [],
   "source": [
    "k = 5\n",
    "kmeans = KMeans(n_clusters=k, random_state=42)\n",
    "kmeans_labels = kmeans.fit_predict(X_scaled)\n",
    "\n",
    "df_final['Cluster_Kepadatan'] = kmeans_labels\n"
   ]
  },
  {
   "cell_type": "code",
   "execution_count": 371,
   "id": "a3193c2c",
   "metadata": {},
   "outputs": [
    {
     "name": "stdout",
     "output_type": "stream",
     "text": [
      "Silhouette Score: 0.422\n",
      "Davies-Bouldin Index: 0.654\n"
     ]
    }
   ],
   "source": [
    "sil_score = silhouette_score(X_scaled, kmeans_labels)\n",
    "db_score = davies_bouldin_score(X_scaled, kmeans_labels)\n",
    "print(f\"Silhouette Score: {sil_score:.3f}\")\n",
    "print(f\"Davies-Bouldin Index: {db_score:.3f}\")"
   ]
  },
  {
   "cell_type": "code",
   "execution_count": 372,
   "id": "97539597",
   "metadata": {},
   "outputs": [
    {
     "data": {
      "image/png": "[encoded data removed]",
      "text/plain": [
       "<Figure size 800x400 with 1 Axes>"
      ]
     },
     "metadata": {},
     "output_type": "display_data"
    }
   ],
   "source": [
    "import seaborn as sns\n",
    "import matplotlib.pyplot as plt\n",
    "\n",
    "plt.figure(figsize=(8, 4))\n",
    "sns.countplot(x='Cluster_Kepadatan', data=df_final)\n",
    "plt.title(\"Distribusi Cluster KMeans berdasarkan Kepadatan 2020\")\n",
    "plt.xlabel(\"Cluster\")\n",
    "plt.ylabel(\"Jumlah Wilayah\")\n",
    "plt.tight_layout()\n",
    "plt.show()"
   ]
  },
  {
   "cell_type": "code",
   "execution_count": 373,
   "id": "7e7472f7",
   "metadata": {},
   "outputs": [],
   "source": [
    "# Hitung rata-rata kepadatan per klaster\n",
    "mean_per_cluster = df_final.groupby(\"Cluster_Kepadatan\")[\"Kepadatan_2020\"].mean()\n",
    "\n",
    "# Urutkan dari paling rendah ke paling tinggi\n",
    "sorted_clusters = mean_per_cluster.sort_values().index.tolist()\n",
    "\n",
    "# Label kategori\n",
    "kategori_label = [\"Sangat Rendah\", \"Rendah\", \"Sedang\", \"Tinggi\", \"Sangat Tinggi\"]\n",
    "\n",
    "# Buat mapping klaster → label\n",
    "cluster_to_label = {cluster: label for cluster, label in zip(sorted_clusters, kategori_label)}\n",
    "\n",
    "# Terapkan ke dataframe\n",
    "df_final[\"Kategori_Kepadatan\"] = df_final[\"Cluster_Kepadatan\"].map(cluster_to_label)\n"
   ]
  },
  {
   "cell_type": "code",
   "execution_count": 374,
   "id": "40d13cb0",
   "metadata": {},
   "outputs": [
    {
     "name": "stdout",
     "output_type": "stream",
     "text": [
      "                             min           max\n",
      "Kategori_Kepadatan                            \n",
      "Sangat Rendah         397.517822   2244.375940\n",
      "Rendah                589.644181   3183.182842\n",
      "Tinggi               1615.111464  15798.141075\n",
      "Sedang               2246.066583   2246.066583\n",
      "Sangat Tinggi       12402.945729  14970.495616\n"
     ]
    }
   ],
   "source": [
    "batasan = df_final.groupby(\"Kategori_Kepadatan\")[\"Kepadatan_2020\"].agg([\"min\", \"max\"]).sort_values(\"min\")\n",
    "print(batasan)"
   ]
  },
  {
   "cell_type": "code",
   "execution_count": 375,
   "id": "0b86b96b",
   "metadata": {},
   "outputs": [
    {
     "name": "stdout",
     "output_type": "stream",
     "text": [
      "   Wilayah Jawa Barat  Kepadatan_2020  Cluster_Kepadatan Kategori_Kepadatan\n",
      "2             Cianjur      589.644181                  4             Rendah\n",
      "1            Sukabumi      595.850882                  4             Rendah\n",
      "4               Garut      857.702329                  4             Rendah\n",
      "3             Bandung     2167.189869                  4             Rendah\n",
      "15             Bekasi     3183.182842                  4             Rendah\n",
      "17        Pangandaran      397.517822                  0      Sangat Rendah\n",
      "5         Tasikmalaya      688.192569                  0      Sangat Rendah\n",
      "10           Sumedang      760.327465                  0      Sangat Rendah\n",
      "6              Ciamis      849.421436                  0      Sangat Rendah\n",
      "12             Subang      851.435360                  0      Sangat Rendah\n",
      "11          Indramayu      851.730544                  0      Sangat Rendah\n",
      "7            Kuningan      978.880024                  0      Sangat Rendah\n",
      "9          Majalengka     1005.371853                  0      Sangat Rendah\n",
      "13         Purwakarta     1176.991547                  0      Sangat Rendah\n",
      "16      Bandung Barat     1313.387503                  0      Sangat Rendah\n",
      "14           Karawang     1434.746399                  0      Sangat Rendah\n",
      "8             Cirebon     2244.375940                  0      Sangat Rendah\n",
      "23         Kota Depok    12402.945729                  1      Sangat Tinggi\n",
      "22        Kota Bekasi    14886.452737                  1      Sangat Tinggi\n",
      "20       Kota Bandung    14970.495616                  1      Sangat Tinggi\n",
      "0               Bogor     2246.066583                  2             Sedang\n",
      "26        Kota Banjar     1615.111464                  3             Tinggi\n",
      "25   Kota Tasikmalaya     3869.156809                  3             Tinggi\n",
      "19      Kota Sukabumi     6853.699482                  3             Tinggi\n",
      "21       Kota Cirebon     8627.462527                  3             Tinggi\n",
      "18         Kota Bogor     9509.932489                  3             Tinggi\n",
      "24        Kota Cimahi    15798.141075                  3             Tinggi\n"
     ]
    }
   ],
   "source": [
    "df_final_sorted = df_final.sort_values(by=[\"Kategori_Kepadatan\", \"Kepadatan_2020\"])\n",
    "print(df_final_sorted[[\"Wilayah Jawa Barat\", \"Kepadatan_2020\", \"Cluster_Kepadatan\", \"Kategori_Kepadatan\"]])\n"
   ]
  },
  {
   "cell_type": "code",
   "execution_count": 376,
   "id": "90ab4c8e",
   "metadata": {},
   "outputs": [
    {
     "data": {
      "text/plain": [
       "['modelprediksi.pkl']"
      ]
     },
     "execution_count": 376,
     "metadata": {},
     "output_type": "execute_result"
    }
   ],
   "source": [
    "import joblib\n",
    "\n",
    "joblib.dump(knn_model,'modelprediksi.pkl')"
   ]
  },
  {
   "cell_type": "code",
   "execution_count": 377,
   "id": "3cece4dc",
   "metadata": {},
   "outputs": [
    {
     "name": "stdout",
     "output_type": "stream",
     "text": [
      "Authtoken saved to configuration file: C:\\Users\\Asus\\AppData\\Local/ngrok/ngrok.yml\n"
     ]
    }
   ],
   "source": [
    "!ngrok config add-authtoken 2wuW3knNk6fzW1KFL8hFeqO2Iud_4fX6ybBACVDTMFizyWVuo"
   ]
  },
  {
   "cell_type": "code",
   "execution_count": null,
   "id": "cc9bfd24",
   "metadata": {},
   "outputs": [
    {
     "name": "stderr",
     "output_type": "stream",
     "text": [
      "2025-06-08 19:48:19.020 Thread 'MainThread': missing ScriptRunContext! This warning can be ignored when running in bare mode.\n",
      "2025-06-08 19:48:19.020 Thread 'MainThread': missing ScriptRunContext! This warning can be ignored when running in bare mode.\n",
      "2025-06-08 19:48:19.021 Thread 'MainThread': missing ScriptRunContext! This warning can be ignored when running in bare mode.\n",
      "2025-06-08 19:48:19.022 Thread 'MainThread': missing ScriptRunContext! This warning can be ignored when running in bare mode.\n",
      "2025-06-08 19:48:19.022 Thread 'MainThread': missing ScriptRunContext! This warning can be ignored when running in bare mode.\n",
      "2025-06-08 19:48:19.029 Thread 'MainThread': missing ScriptRunContext! This warning can be ignored when running in bare mode.\n",
      "2025-06-08 19:48:19.029 Thread 'MainThread': missing ScriptRunContext! This warning can be ignored when running in bare mode.\n",
      "2025-06-08 19:48:19.030 Thread 'MainThread': missing ScriptRunContext! This warning can be ignored when running in bare mode.\n",
      "2025-06-08 19:48:19.031 Thread 'MainThread': missing ScriptRunContext! This warning can be ignored when running in bare mode.\n",
      "2025-06-08 19:48:19.031 Thread 'MainThread': missing ScriptRunContext! This warning can be ignored when running in bare mode.\n",
      "2025-06-08 19:48:19.031 Thread 'MainThread': missing ScriptRunContext! This warning can be ignored when running in bare mode.\n",
      "2025-06-08 19:48:19.032 Thread 'MainThread': missing ScriptRunContext! This warning can be ignored when running in bare mode.\n",
      "2025-06-08 19:48:19.033 Thread 'MainThread': missing ScriptRunContext! This warning can be ignored when running in bare mode.\n",
      "2025-06-08 19:48:19.069 Thread 'MainThread': missing ScriptRunContext! This warning can be ignored when running in bare mode.\n",
      "2025-06-08 19:48:19.296 Thread 'MainThread': missing ScriptRunContext! This warning can be ignored when running in bare mode.\n",
      "2025-06-08 19:48:19.296 Thread 'MainThread': missing ScriptRunContext! This warning can be ignored when running in bare mode.\n",
      "2025-06-08 19:48:19.297 Thread 'MainThread': missing ScriptRunContext! This warning can be ignored when running in bare mode.\n",
      "2025-06-08 19:48:19.298 Thread 'MainThread': missing ScriptRunContext! This warning can be ignored when running in bare mode.\n",
      "2025-06-08 19:48:19.298 Thread 'MainThread': missing ScriptRunContext! This warning can be ignored when running in bare mode.\n",
      "2025-06-08 19:48:19.300 Thread 'MainThread': missing ScriptRunContext! This warning can be ignored when running in bare mode.\n",
      "2025-06-08 19:48:19.300 Thread 'MainThread': missing ScriptRunContext! This warning can be ignored when running in bare mode.\n",
      "2025-06-08 19:48:19.300 Thread 'MainThread': missing ScriptRunContext! This warning can be ignored when running in bare mode.\n",
      "2025-06-08 19:48:19.301 Thread 'MainThread': missing ScriptRunContext! This warning can be ignored when running in bare mode.\n",
      "2025-06-08 19:48:19.301 Thread 'MainThread': missing ScriptRunContext! This warning can be ignored when running in bare mode.\n",
      "2025-06-08 19:48:19.302 Thread 'MainThread': missing ScriptRunContext! This warning can be ignored when running in bare mode.\n",
      "2025-06-08 19:48:19.302 Thread 'MainThread': missing ScriptRunContext! This warning can be ignored when running in bare mode.\n",
      "2025-06-08 19:48:19.302 Thread 'MainThread': missing ScriptRunContext! This warning can be ignored when running in bare mode.\n",
      "2025-06-08 19:48:19.303 Thread 'MainThread': missing ScriptRunContext! This warning can be ignored when running in bare mode.\n",
      "2025-06-08 19:48:19.303 Thread 'MainThread': missing ScriptRunContext! This warning can be ignored when running in bare mode.\n",
      "2025-06-08 19:48:19.304 Thread 'MainThread': missing ScriptRunContext! This warning can be ignored when running in bare mode.\n",
      "2025-06-08 19:48:19.304 Thread 'MainThread': missing ScriptRunContext! This warning can be ignored when running in bare mode.\n",
      "2025-06-08 19:48:19.304 Thread 'MainThread': missing ScriptRunContext! This warning can be ignored when running in bare mode.\n",
      "2025-06-08 19:48:19.305 Thread 'MainThread': missing ScriptRunContext! This warning can be ignored when running in bare mode.\n",
      "2025-06-08 19:48:19.305 Thread 'MainThread': missing ScriptRunContext! This warning can be ignored when running in bare mode.\n",
      "2025-06-08 19:48:19.306 Thread 'MainThread': missing ScriptRunContext! This warning can be ignored when running in bare mode.\n",
      "2025-06-08 19:48:19.306 Thread 'MainThread': missing ScriptRunContext! This warning can be ignored when running in bare mode.\n",
      "2025-06-08 19:48:19.307 Thread 'MainThread': missing ScriptRunContext! This warning can be ignored when running in bare mode.\n",
      "2025-06-08 19:48:19.307 Thread 'MainThread': missing ScriptRunContext! This warning can be ignored when running in bare mode.\n",
      "2025-06-08 19:48:19.308 Thread 'MainThread': missing ScriptRunContext! This warning can be ignored when running in bare mode.\n",
      "2025-06-08 19:48:19.308 Thread 'MainThread': missing ScriptRunContext! This warning can be ignored when running in bare mode.\n",
      "2025-06-08 19:48:19.310 Thread 'MainThread': missing ScriptRunContext! This warning can be ignored when running in bare mode.\n",
      "2025-06-08 19:48:19.311 Thread 'MainThread': missing ScriptRunContext! This warning can be ignored when running in bare mode.\n",
      "2025-06-08 19:48:19.313 Thread 'MainThread': missing ScriptRunContext! This warning can be ignored when running in bare mode.\n",
      "2025-06-08 19:48:19.315 Thread 'MainThread': missing ScriptRunContext! This warning can be ignored when running in bare mode.\n",
      "2025-06-08 19:48:19.316 Thread 'MainThread': missing ScriptRunContext! This warning can be ignored when running in bare mode.\n",
      "2025-06-08 19:48:19.317 Thread 'MainThread': missing ScriptRunContext! This warning can be ignored when running in bare mode.\n",
      "2025-06-08 19:48:19.362 Thread 'MainThread': missing ScriptRunContext! This warning can be ignored when running in bare mode.\n",
      "2025-06-08 19:48:19.588 Thread 'MainThread': missing ScriptRunContext! This warning can be ignored when running in bare mode.\n",
      "2025-06-08 19:48:19.589 Thread 'MainThread': missing ScriptRunContext! This warning can be ignored when running in bare mode.\n",
      "2025-06-08 19:48:19.589 Thread 'MainThread': missing ScriptRunContext! This warning can be ignored when running in bare mode.\n",
      "2025-06-08 19:48:19.590 Thread 'MainThread': missing ScriptRunContext! This warning can be ignored when running in bare mode.\n",
      "2025-06-08 19:48:19.590 Thread 'MainThread': missing ScriptRunContext! This warning can be ignored when running in bare mode.\n",
      "2025-06-08 19:48:19.591 Thread 'MainThread': missing ScriptRunContext! This warning can be ignored when running in bare mode.\n",
      "2025-06-08 19:48:19.591 Thread 'MainThread': missing ScriptRunContext! This warning can be ignored when running in bare mode.\n",
      "2025-06-08 19:48:19.591 Thread 'MainThread': missing ScriptRunContext! This warning can be ignored when running in bare mode.\n",
      "2025-06-08 19:48:19.592 Thread 'MainThread': missing ScriptRunContext! This warning can be ignored when running in bare mode.\n",
      "2025-06-08 19:48:19.592 Thread 'MainThread': missing ScriptRunContext! This warning can be ignored when running in bare mode.\n",
      "2025-06-08 19:48:19.600 Thread 'MainThread': missing ScriptRunContext! This warning can be ignored when running in bare mode.\n",
      "2025-06-08 19:48:19.601 Thread 'MainThread': missing ScriptRunContext! This warning can be ignored when running in bare mode.\n",
      "2025-06-08 19:48:19.603 Thread 'MainThread': missing ScriptRunContext! This warning can be ignored when running in bare mode.\n",
      "2025-06-08 19:48:19.603 Thread 'MainThread': missing ScriptRunContext! This warning can be ignored when running in bare mode.\n",
      "2025-06-08 19:48:19.630 Thread 'MainThread': missing ScriptRunContext! This warning can be ignored when running in bare mode.\n",
      "2025-06-08 19:48:19.705 Thread 'MainThread': missing ScriptRunContext! This warning can be ignored when running in bare mode.\n",
      "2025-06-08 19:48:19.706 Thread 'MainThread': missing ScriptRunContext! This warning can be ignored when running in bare mode.\n"
     ]
    },
    {
     "data": {
      "text/plain": [
       "DeltaGenerator()"
      ]
     },
     "execution_count": 378,
     "metadata": {},
     "output_type": "execute_result"
    }
   ],
   "source": [
    "import streamlit as st\n",
    "import pandas as pd\n",
    "import numpy as np\n",
    "import joblib\n",
    "from sklearn.linear_model import LinearRegression\n",
    "from sklearn.preprocessing import StandardScaler\n",
    "from sklearn.cluster import KMeans\n",
    "import matplotlib.pyplot as plt\n",
    "import seaborn as sns\n",
    "\n",
    "# ---------------------------\n",
    "# Konfigurasi Halaman\n",
    "# ---------------------------\n",
    "st.set_page_config(page_title=\"Dashboard Prediksi Kepadatan Penduduk\")\n",
    "\n",
    "st.title(\"📊 Prediksi dan Analisis Kepadatan Penduduk Jawa Barat\")\n",
    "st.write(\"Aplikasi ini memprediksi dan menganalisis kepadatan penduduk berdasarkan data tahun sebelumnya dan luas wilayah.\")\n",
    "\n",
    "# ---------------------------\n",
    "# Load Dataset\n",
    "# ---------------------------\n",
    "df = pd.read_csv(\"Jumlah_penduduk_menurut_kabupaten_kota_2018_2020.csv\")\n",
    "dd_2 = pd.read_csv(\"Luas_daerah_menurut_kabupaten_kota_jawabarat_2020.csv\")\n",
    "dd_2.drop([\"Jumlah Pulau\"], axis=1, inplace=True)\n",
    "\n",
    "# Merge dan Preprocessing\n",
    "df_final = df.merge(dd_2, left_on=\"Wilayah Jawa Barat\", right_on=\"Kabupaten/Kota\")\n",
    "df_final.drop(columns=[\"Kabupaten/Kota\"], inplace=True)\n",
    "df_final[\"Kepadatan_2018\"] = df_final[\"2018\"] / df_final[\"Luas Wilayah (Km2)\"]\n",
    "df_final[\"Kepadatan_2019\"] = df_final[\"2019\"] / df_final[\"Luas Wilayah (Km2)\"]\n",
    "df_final[\"Kepadatan_2020\"] = df_final[\"2020\"] / df_final[\"Luas Wilayah (Km2)\"]\n",
    "\n",
    "def klasifikasi_kepadatan(nilai):\n",
    "    if nilai < 1000:\n",
    "        return \"Sangat Rendah\"\n",
    "    elif nilai < 5000:\n",
    "        return \"Rendah\"\n",
    "    elif nilai < 10000:\n",
    "        return \"Sedang\"\n",
    "    elif nilai < 15000:\n",
    "        return \"Tinggi\"\n",
    "    else:\n",
    "        return \"Sangat Tinggi\"\n",
    "\n",
    "# ---------------------------\n",
    "# Train Model Linear Regression\n",
    "# ---------------------------\n",
    "X = df_final[[\"Kepadatan_2018\", \"Kepadatan_2019\"]]\n",
    "y = df_final[\"Kepadatan_2020\"]\n",
    "model = LinearRegression()\n",
    "model.fit(X, y)\n",
    "\n",
    "# ---------------------------\n",
    "# Visualisasi Bar Chart Tiap Tahun\n",
    "# ---------------------------\n",
    "st.subheader(\"📌 Visualisasi Kepadatan Penduduk per Tahun\")\n",
    "tahun_pilihan = st.selectbox(\"Pilih Tahun\", [2018, 2019], key=\"tahun_bar_chart\")\n",
    "\n",
    "fig1, ax1 = plt.subplots(figsize=(10, 5))\n",
    "ax1.bar(df_final[\"Wilayah Jawa Barat\"], df_final[f\"Kepadatan_{tahun_pilihan}\"])\n",
    "ax1.set_title(f\"Kepadatan Penduduk Tahun {tahun_pilihan}\")\n",
    "ax1.set_ylabel(\"Kepadatan (jiwa/km²)\")\n",
    "ax1.set_xticks(np.arange(len(df_final)))\n",
    "ax1.set_xticklabels(df_final[\"Wilayah Jawa Barat\"], rotation=90)\n",
    "ax1.grid(True)\n",
    "st.pyplot(fig1)\n",
    "\n",
    "# ---------------------------\n",
    "# Kategori Kepadatan\n",
    "# ---------------------------\n",
    "st.subheader(\"📌 Kategori Kepadatan Penduduk\")\n",
    "data_kategori = {\n",
    "    \"Rentang Kepadatan (jiwa/km²)\": [\n",
    "        \"< 1.000\",\n",
    "        \"1.000 – < 5.000\",\n",
    "        \"5.000 – < 10.000\",\n",
    "        \"10.000 – < 15.000\",\n",
    "        \"≥ 15.000\"\n",
    "    ],\n",
    "    \"Kategori\": [\n",
    "        \"Sangat Rendah\",\n",
    "        \"Rendah\",\n",
    "        \"Sedang\",\n",
    "        \"Tinggi\",\n",
    "        \"Sangat Tinggi\"\n",
    "    ],\n",
    "    \"Contoh Nilai\": [\n",
    "        \"800\",\n",
    "        \"3.200\",\n",
    "        \"7.500\",\n",
    "        \"12.000\",\n",
    "        \"15.700\"\n",
    "    ]\n",
    "}\n",
    "st.table(pd.DataFrame(data_kategori))\n",
    "\n",
    "\n",
    "# ---------------------------\n",
    "# Input dan Prediksi\n",
    "# ---------------------------\n",
    "st.subheader(\"📌 Prediksi Kepadatan Tahun 2020\")\n",
    "kepadatan_2018 = st.number_input(\"Masukkan Kepadatan 2018\", min_value=0.0, step=10.0)\n",
    "kepadatan_2019 = st.number_input(\"Masukkan Kepadatan 2019\", min_value=0.0, step=10.0)\n",
    "\n",
    "if st.button(\"Prediksi Sekarang\"):\n",
    "    prediksi = model.predict([[kepadatan_2018, kepadatan_2019]])[0]\n",
    "    \n",
    "    if prediksi < 1000:\n",
    "        kategori = \"Sangat Rendah\"\n",
    "    elif prediksi < 5000:\n",
    "        kategori = \"Rendah\"\n",
    "    elif prediksi < 10000:\n",
    "        kategori = \"Sedang\"\n",
    "    elif prediksi < 15000:\n",
    "        kategori = \"Tinggi\"\n",
    "    else:\n",
    "        kategori = \"Sangat Tinggi\"\n",
    "\n",
    "    st.success(f\"Prediksi Kepadatan Tahun 2020: {prediksi:,.2f} jiwa/km²\")\n",
    "    st.info(f\"Kategori Kepadatan: **{kategori}**\")\n",
    "\n",
    "# ---------------------------\n",
    "# Tabel Prediksi vs Aktual\n",
    "# ---------------------------\n",
    "df_final[\"Prediksi_2020\"] = model.predict(df_final[[\"Kepadatan_2018\", \"Kepadatan_2019\"]])\n",
    "df_final[\"Selisih_Error\"] = df_final[\"Prediksi_2020\"] - df_final[\"Kepadatan_2020\"]\n",
    "\n",
    "st.subheader(\"📌 Tabel Prediksi vs Aktual\")\n",
    "st.dataframe(df_final[[\"Wilayah Jawa Barat\", \"Kepadatan_2020\", \"Prediksi_2020\", \"Selisih_Error\"]].round(2))\n",
    "\n",
    "# ---------------------------\n",
    "# Visualisasi Prediksi vs Aktual\n",
    "# ---------------------------\n",
    "st.subheader(\"📌 Visualisasi Perbandingan Prediksi vs Aktual\")\n",
    "fig2, ax2 = plt.subplots(figsize=(12, 5))\n",
    "x = np.arange(len(df_final))\n",
    "width = 0.4\n",
    "ax2.bar(x - width/2, df_final[\"Kepadatan_2020\"], width=width, label=\"Aktual\")\n",
    "ax2.bar(x + width/2, df_final[\"Prediksi_2020\"], width=width, label=\"Prediksi\")\n",
    "ax2.set_xticks(x)\n",
    "ax2.set_xticklabels(df_final[\"Wilayah Jawa Barat\"], rotation=90)\n",
    "ax2.set_ylabel(\"Kepadatan (jiwa/km²)\")\n",
    "ax2.legend()\n",
    "st.pyplot(fig2)\n",
    "\n",
    "# ---------------------------\n",
    "# Clustering Berdasarkan Tahun\n",
    "# ---------------------------\n",
    "st.subheader(\"📌 Clustering Wilayah Berdasarkan Kepadatan\")\n",
    "\n",
    "tahun_klaster = st.selectbox(\"Pilih Tahun untuk Clustering\", [2018, 2019, 2020], key=\"tahun_clustering\")\n",
    "X_cluster = df_final[[f\"Kepadatan_{tahun_klaster}\"]]\n",
    "X_cluster_scaled = StandardScaler().fit_transform(X_cluster)\n",
    "\n",
    "kmeans = KMeans(n_clusters=5, random_state=42)\n",
    "df_final[\"Cluster_Tahun\"] = kmeans.fit_predict(X_cluster_scaled)\n",
    "\n",
    "# Terapkan kategori berdasarkan nilai kepadatan, bukan cluster label\n",
    "df_final[f\"Kategori_{tahun_klaster}\"] = df_final[f\"Kepadatan_{tahun_klaster}\"].apply(klasifikasi_kepadatan)\n",
    "\n",
    "# Tampilkan hasil\n",
    "st.write(\"📋 Hasil Cluster dan Kategori per Wilayah:\")\n",
    "st.dataframe(\n",
    "    df_final[[\"Wilayah Jawa Barat\", f\"Kepadatan_{tahun_klaster}\", f\"Kategori_{tahun_klaster}\"]]\n",
    "    .sort_values(f\"Kepadatan_{tahun_klaster}\")\n",
    "    .reset_index(drop=True)\n",
    ")\n",
    "\n",
    "# Visualisasi Cluster\n",
    "fig3, ax3 = plt.subplots()\n",
    "sns.countplot(x=f\"Kategori_{tahun_klaster}\", data=df_final, ax=ax3,\n",
    "              order=[\"Sangat Rendah\", \"Rendah\", \"Sedang\", \"Tinggi\", \"Sangat Tinggi\"])\n",
    "ax3.set_title(f\"Distribusi Kategori Kepadatan - Tahun {tahun_klaster}\")\n",
    "ax3.set_xlabel(\"Kategori Kepadatan\")\n",
    "st.pyplot(fig3)\n"
   ]
  },
  {
   "cell_type": "code",
   "execution_count": 379,
   "id": "b4d37acd",
   "metadata": {},
   "outputs": [],
   "source": [
    "from pyngrok import ngrok\n",
    "import threading\n",
    "import time\n",
    "import os"
   ]
  },
  {
   "cell_type": "code",
   "execution_count": 380,
   "id": "7892a78e",
   "metadata": {},
   "outputs": [
    {
     "name": "stdout",
     "output_type": "stream",
     "text": [
      "Streamlit app is live at: NgrokTunnel: \"https://dc08-2404-8000-1024-76f0-481b-7b3f-86db-e9a6.ngrok-free.app\" -> \"http://localhost:8501\"\n"
     ]
    }
   ],
   "source": [
    "def run_streamlit():\n",
    "    os.system(\"streamlit run app.py --server.port 8501\")\n",
    "\n",
    "thread = threading.Thread(target=run_streamlit, daemon=True)\n",
    "thread.start()\n",
    "\n",
    "time.sleep(5)\n",
    "\n",
    "public_url = ngrok.connect(addr=8501)\n",
    "print(f\"Streamlit app is live at: {public_url}\")"
   ]
  }
 ],
 "metadata": {
  "kernelspec": {
   "display_name": "Python 3",
   "language": "python",
   "name": "python3"
  },
  "language_info": {
   "codemirror_mode": {
    "name": "ipython",
    "version": 3
   },
   "file_extension": ".py",
   "mimetype": "text/x-python",
   "name": "python",
   "nbconvert_exporter": "python",
   "pygments_lexer": "ipython3",
   "version": "3.13.0"
  }
 },
 "nbformat": 4,
 "nbformat_minor": 5
}
